{
 "cells": [
  {
   "cell_type": "markdown",
   "id": "1b70b34e",
   "metadata": {},
   "source": [
    "### Basic library imports"
   ]
  },
  {
   "cell_type": "code",
   "execution_count": 2,
   "id": "719d15af",
   "metadata": {},
   "outputs": [],
   "source": [
    "import os\n",
    "import pandas as pd"
   ]
  },
  {
   "cell_type": "markdown",
   "id": "b8911e33",
   "metadata": {},
   "source": [
    "### Read Dataset"
   ]
  },
  {
   "cell_type": "code",
   "execution_count": 3,
   "id": "d3136aac",
   "metadata": {},
   "outputs": [],
   "source": [
    "DATASET_FOLDER = '../dataset/'\n",
    "train = pd.read_csv(os.path.join(DATASET_FOLDER, 'train.csv'))\n",
    "test = pd.read_csv(os.path.join(DATASET_FOLDER, 'test.csv'))\n",
    "sample_test = pd.read_csv(os.path.join(DATASET_FOLDER, 'sample_test.csv'))\n",
    "sample_test_out = pd.read_csv(os.path.join(DATASET_FOLDER, 'sample_test_out.csv'))"
   ]
  },
  {
   "cell_type": "code",
   "execution_count": 30,
   "id": "ce65b521",
   "metadata": {},
   "outputs": [],
   "source": [
    "new_train_data = pd.read_excel(os.path.join(DATASET_FOLDER, 'new_sample_train.xls.xlsx'))"
   ]
  },
  {
   "cell_type": "markdown",
   "id": "60ebd689",
   "metadata": {},
   "source": [
    "### Run Sanity check using src/sanity.py"
   ]
  },
  {
   "cell_type": "code",
   "execution_count": 4,
   "id": "81bb3988",
   "metadata": {},
   "outputs": [
    {
     "name": "stdout",
     "output_type": "stream",
     "text": [
      "Parsing successfull for file: ../dataset/sample_test_out.csv\n"
     ]
    }
   ],
   "source": [
    "!python sanity.py --test_filename ../dataset/sample_test.csv --output_filename ../dataset/sample_test_out.csv"
   ]
  },
  {
   "cell_type": "code",
   "execution_count": 5,
   "id": "5aa79459",
   "metadata": {},
   "outputs": [
    {
     "name": "stdout",
     "output_type": "stream",
     "text": [
      "Error: Invalid unit [lbs] found in 6.75 lbs. Allowed units: {'quart', 'microlitre', 'kilogram', 'watt', 'gram', 'pint', 'volt', 'cup', 'decilitre', 'centimetre', 'gallon', 'litre', 'centilitre', 'kilowatt', 'milligram', 'imperial gallon', 'pound', 'fluid ounce', 'millivolt', 'foot', 'ton', 'inch', 'kilovolt', 'cubic foot', 'yard', 'cubic inch', 'millilitre', 'metre', 'ounce', 'microgram', 'millimetre'}\n"
     ]
    }
   ],
   "source": [
    "!python sanity.py --test_filename ../dataset/sample_test.csv --output_filename ../dataset/sample_test_out_fail.csv"
   ]
  },
  {
   "cell_type": "markdown",
   "id": "dbe930a8",
   "metadata": {},
   "source": [
    "### Download images"
   ]
  },
  {
   "cell_type": "code",
   "execution_count": 11,
   "id": "a3d1aad8",
   "metadata": {},
   "outputs": [
    {
     "ename": "TypeError",
     "evalue": "download_images() got an unexpected keyword argument 'max_threads'",
     "output_type": "error",
     "traceback": [
      "\u001b[1;31m---------------------------------------------------------------------------\u001b[0m",
      "\u001b[1;31mTypeError\u001b[0m                                 Traceback (most recent call last)",
      "Cell \u001b[1;32mIn[11], line 2\u001b[0m\n\u001b[0;32m      1\u001b[0m \u001b[38;5;28;01mfrom\u001b[39;00m \u001b[38;5;21;01mutils\u001b[39;00m \u001b[38;5;28;01mimport\u001b[39;00m download_images\n\u001b[1;32m----> 2\u001b[0m download_images(sample_test[\u001b[38;5;124m'\u001b[39m\u001b[38;5;124mimage_link\u001b[39m\u001b[38;5;124m'\u001b[39m], \u001b[38;5;124m'\u001b[39m\u001b[38;5;124m../images\u001b[39m\u001b[38;5;124m'\u001b[39m, max_threads\u001b[38;5;241m=\u001b[39m\u001b[38;5;241m30\u001b[39m)\n",
      "\u001b[1;31mTypeError\u001b[0m: download_images() got an unexpected keyword argument 'max_threads'"
     ]
    }
   ],
   "source": [
    "from utils import download_images\n",
    "download_images(sample_test['image_link'], '../images', max_threads=30)"
   ]
  },
  {
   "cell_type": "code",
   "execution_count": 31,
   "id": "adf52693",
   "metadata": {},
   "outputs": [
    {
     "name": "stdout",
     "output_type": "stream",
     "text": [
      "Downloaded: 31EvJszFVfL.jpg\n",
      "Downloaded: 81S2+GnYpTL.jpg\n",
      "Downloaded: 715vVcWJxGL.jpg\n",
      "Downloaded: 617Tl40LOXL.jpg\n",
      "Downloaded: 61BZ4zrjZXL.jpg\n",
      "Downloaded: 81xsq6vf2qL.jpg\n",
      "Downloaded: 71rKXZJrh4L.jpg\n",
      "Downloaded: 71YyZ2iPyZL.jpg\n",
      "Downloaded: 61WFh8RCQYL.jpg\n",
      "Downloaded: 61hWZdkq6WL.jpg\n",
      "Downloaded: 61HXgujoxpL.jpg\n",
      "Downloaded: 61x6RSjwQIL.jpg\n",
      "Downloaded: 51WsuKKAVrL.jpg\n",
      "Downloaded: 61c+hSNnnZL.jpg\n",
      "Downloaded: 71IUuTJ8QwL.jpg\n",
      "Downloaded: 81dzao1Ob4L.jpg\n",
      "Downloaded: 71cjrYndwIL.jpg\n",
      "Downloaded: 71004c9tzfL.jpg\n",
      "Downloaded: 81RNsNEM1EL.jpg\n",
      "Downloaded: 91Cma3RzseL.jpg\n",
      "Downloaded: 61sQ+qAKr4L.jpg\n",
      "Downloaded: 81N73b5khVL.jpg\n",
      "Downloaded: 61I9XdN6OFL.jpg\n",
      "Downloaded: 61sx0ezNNLL.jpg\n",
      "Downloaded: 41wvffSxB4L.jpg\n",
      "Downloaded: 61o2ntPNNgL.jpg\n",
      "Downloaded: 71+fn9TWQmL.jpg\n",
      "Downloaded: 817vo3DcCNL.jpg\n",
      "Downloaded: 91LPf6OjV9L.jpg\n",
      "Downloaded: 71nywfWZUwL.jpg\n",
      "Downloaded: 61wzlucTREL.jpg\n",
      "Downloaded: 613v+2W4UwL.jpg\n",
      "Downloaded: 81e2YtCOKvL.jpg\n",
      "Downloaded: 61QsBSE7jgL.jpg\n",
      "Downloaded: 613BeFNwHcL.jpg\n",
      "Downloaded: 91-iahVGEDL.jpg\n",
      "Downloaded: 612mrlqiI4L.jpg\n",
      "Downloaded: 71D824lbRvL.jpg\n",
      "Downloaded: 71DiLRHeZdL.jpg\n",
      "Downloaded: 71E7CU55dcL.jpg\n",
      "Downloaded: 61XGDKap+JL.jpg\n",
      "Downloaded: 711SATIDrmL.jpg\n",
      "Downloaded: 613G8GOyLSL.jpg\n",
      "Downloaded: 915w0BdW-gL.jpg\n",
      "Downloaded: 81hnk2WXO3L.jpg\n",
      "Downloaded: 81K3JwUCnQL.jpg\n",
      "Downloaded: 71jBLhmTNlL.jpg\n",
      "Downloaded: 91prZeizZnL.jpg\n",
      "Downloaded: 71aKgRRQ2wL.jpg\n",
      "Downloaded: 61AHQ35poHL.jpg\n",
      "Downloaded: 915JHkwtcrL.jpg\n",
      "Downloaded: 51bQPPtMqYL.jpg\n",
      "Downloaded: 71ldprwbKrL.jpg\n",
      "Downloaded: 71nywfWZUwL.jpg\n",
      "Downloaded: 61o2ntPNNgL.jpg\n",
      "Downloaded: 81fOxWWWKYL.jpg\n",
      "Downloaded: 81x77l2T5NL.jpg\n",
      "Downloaded: 71gSRbyXmoL.jpg\n",
      "Downloaded: 61oMj2iXOuL.jpg\n",
      "Downloaded: 91cErO-KbLL.jpg\n",
      "Downloaded: 61Fwq4GeTmL.jpg\n",
      "Downloaded: 71E9iF-bmKL.jpg\n",
      "Downloaded: 71nsfFCXF0L.jpg\n",
      "Downloaded: 71e6kJLE+LL.jpg\n",
      "Downloaded: 71dWDwMhWmS.jpg\n",
      "Downloaded: 71Lpqdrpi4L.jpg\n",
      "Downloaded: 413FQB0ZMLL.jpg\n",
      "Downloaded: 61I0O1qJbhS.jpg\n",
      "Downloaded: 61SmT8pkLtL.jpg\n",
      "Downloaded: 71bvOuz9w1L.jpg\n",
      "Downloaded: 718EdwGgyVL.jpg\n",
      "Downloaded: 716AQpAJjZL.jpg\n",
      "Downloaded: 71duwM3SjpL.jpg\n",
      "Downloaded: 811VfR10yxL.jpg\n",
      "Downloaded: 51b9JEHOriL.jpg\n",
      "Downloaded: 71jG8BOi4WL.jpg\n",
      "Downloaded: 61kyBEJYDeL.jpg\n",
      "Downloaded: 61Dq3LRei9L.jpg\n",
      "Downloaded: 81njuNSPdjL.jpg\n",
      "Downloaded: 814sAvV89SL.jpg\n",
      "Downloaded: 81l6zfwKG7L.jpg\n",
      "Downloaded: 71PDbPb275L.jpg\n",
      "Downloaded: 61qOr-yqaVL.jpg\n",
      "Downloaded: 51T1Kh7WWGL.jpg\n",
      "Downloaded: 81R8CrWXthL.jpg\n",
      "Downloaded: 41Kn+YOyPjL.jpg\n",
      "Downloaded: 71qEriwsbIL.jpg\n",
      "Downloaded: 719poaEkdEL.jpg\n",
      "Downloaded: 81yG9eUKvxL.jpg\n",
      "Downloaded: 61Hhju+qn9L.jpg\n",
      "Downloaded: 61-oj+N+BxL.jpg\n",
      "Downloaded: 71sWRp1SNwL.jpg\n",
      "Downloaded: 61d6Kj80QSL.jpg\n",
      "Downloaded: 71hgN7yu9OL.jpg\n",
      "Downloaded: 71jLIbCcwOL.jpg\n",
      "Downloaded: 41EjbFu-+yL.jpg\n",
      "Downloaded: 61eOO5IW4NL.jpg\n",
      "Downloaded: 71l0M0tMGjL.jpg\n",
      "Downloaded: 71FVeRd2jqL.jpg\n",
      "Downloaded: 71SuzaRS7gL.jpg\n",
      "Downloaded: 71ZtDgGX+iL.jpg\n",
      "Downloaded: 71WLYfmMqQL.jpg\n",
      "Downloaded: 713twQgCHSL.jpg\n",
      "Downloaded: 612xIhPMHqL.jpg\n",
      "Downloaded: 71uQmsTESvL.jpg\n",
      "Downloaded: 81lgxfKqUUL.jpg\n",
      "Downloaded: 51xfRlxWIXL.jpg\n",
      "Downloaded: 71XK5d3Oh9L.jpg\n",
      "Downloaded: 71YiRw3e1lL.jpg\n",
      "Downloaded: 61cMeogK8gL.jpg\n",
      "Downloaded: 61xxqfM2EwL.jpg\n",
      "Downloaded: 61390hosjFL.jpg\n",
      "Downloaded: 514M5CrBK4L.jpg\n",
      "Downloaded: 71eATPu53YL.jpg\n",
      "Downloaded: 41njJJg-ANL.jpg\n",
      "Downloaded: 71qiWPgPcUS.jpg\n",
      "Downloaded: 61FMOl299lL.jpg\n",
      "Downloaded: 61bpzE0p4yL.jpg\n",
      "Downloaded: 81nyHjPXg-L.jpg\n",
      "Downloaded: 71G8XyPqcIL.jpg\n",
      "Downloaded: 51Alw-4+zJL.jpg\n",
      "Downloaded: 51QhV+Ox86L.jpg\n",
      "Downloaded: 51q9OE6hfgL.jpg\n",
      "Downloaded: 61431aMH6cL.jpg\n",
      "Downloaded: 71cziTM6TfL.jpg\n",
      "Downloaded: 51F+K7Zx9fL.jpg\n",
      "Downloaded: 71PexaOBvoL.jpg\n",
      "Downloaded: 414maJ3RUML.jpg\n",
      "Downloaded: 71Oo4M3ApxL.jpg\n",
      "Downloaded: 61lE-I9cVuL.jpg\n",
      "Downloaded: 61Ik5NY4ExL.jpg\n",
      "Downloaded: 81x+p0LzKbL.jpg\n",
      "Downloaded: 51H6vfyBqML.jpg\n",
      "Downloaded: 71NoP+8HnqS.jpg\n",
      "Downloaded: 61CLKFwJa4L.jpg\n",
      "Downloaded: 81F2B83meFL.jpg\n",
      "Downloaded: 81JGAcnf39L.jpg\n",
      "Downloaded: 71mKPQGo8wL.jpg\n",
      "Downloaded: 71P0BToikAL.jpg\n",
      "Downloaded: 71PGzqxh-EL.jpg\n",
      "Downloaded: 71EREAIkJZS.jpg\n",
      "Downloaded: 61vdMgkasML.jpg\n",
      "Downloaded: 51YZWIRgY0L.jpg\n",
      "Downloaded: 71Btb49O2dL.jpg\n",
      "Downloaded: 816L-kPJGyL.jpg\n",
      "Downloaded: 71yqAwAikaL.jpg\n",
      "Downloaded: 81cEIIPti-L.jpg\n",
      "Downloaded: 8146TN-qDgL.jpgDownloaded: 71Ye12U8zRL.jpg\n",
      "\n",
      "Downloaded: 71lxjbXw9bL.jpg\n",
      "Downloaded: 61v1IQDiIbL.jpg\n",
      "Downloaded: 51ZpARXmu+L.jpg\n",
      "Downloaded: 7185b+0uzML.jpg\n",
      "Downloaded: 61mLRVKOr3L.jpg\n",
      "Downloaded: 51ArM1PP7WL.jpg\n",
      "Downloaded: 51u2vv6e8yL.jpg\n",
      "Downloaded: 81uHTyMDa7L.jpg\n",
      "Downloaded: 71Oo4M3ApxL.jpg\n",
      "Downloaded: 51K0v0zo-wL.jpg\n",
      "Downloaded: 71+FvzD14RL.jpg\n",
      "Downloaded: 7158CO+v3kL.jpg\n",
      "Downloaded: 71KFQ3qt4gL.jpg\n",
      "Downloaded: 71pKB7-3itL.jpg\n",
      "Downloaded: 71kCYzCu0UL.jpg\n",
      "Downloaded: 31o8WywVeTL.jpg\n",
      "Downloaded: 615v9WaUIuL.jpg\n",
      "Downloaded: 81puuiKhs5L.jpg\n",
      "Downloaded: 61HisZt9hcL.jpg\n",
      "Downloaded: 81gzy3-ZlML.jpg\n",
      "Downloaded: 71uqF3qqsuL.jpg\n",
      "Downloaded: 71A7RiB2IIS.jpg\n",
      "Downloaded: 71k9HXFp5VL.jpg\n",
      "Downloaded: 81zuZujBfyL.jpg\n",
      "Downloaded: 616QEdZeLGL.jpg\n",
      "Downloaded: 815pYcvCCeL.jpg\n",
      "Downloaded: 71ihnkVAoCL.jpg\n",
      "Downloaded: 71JXfZLNJjL.jpg\n",
      "Downloaded: 81xeFGugw6L.jpg\n",
      "Downloaded: 718M5ODio0L.jpg\n",
      "Downloaded: 71In1fvGSwL.jpg\n",
      "Downloaded: 61UjKZyijBL.jpg\n",
      "Downloaded: 712sZRVe98L.jpg\n",
      "Downloaded: 71bA7Tj2y5L.jpg\n",
      "Downloaded: 7185b+0uzML.jpg\n",
      "Downloaded: 51WSQa1ygML.jpg\n",
      "Downloaded: 81ZyvlRczjL.jpg\n",
      "Downloaded: 619W5ruX5xL.jpg\n",
      "Downloaded: 81Qf73SxLaL.jpg\n",
      "Downloaded: 71ciI6RbOqL.jpg\n",
      "Downloaded: 71WffHaS-QL.jpg\n",
      "Downloaded: 61UkMSPhLSS.jpg\n",
      "Downloaded: 81hbfdu3UaL.jpg\n",
      "Downloaded: 61nvPvyO7kL.jpg\n",
      "Downloaded: 71mi7h+tZmL.jpg\n",
      "Downloaded: 51WaQdTFyhL.jpg\n",
      "Downloaded: 615roHaokEL.jpg\n",
      "Downloaded: 71yQq9I3yzL.jpg\n",
      "Downloaded: 61lpwH0qHbL.jpg\n",
      "Downloaded: 71d+dz7ogkL.jpg\n"
     ]
    }
   ],
   "source": [
    "import requests\n",
    "import os\n",
    "from multiprocessing.pool import ThreadPool\n",
    "\n",
    "# Define your own download_images function\n",
    "def download_image(image_url, save_dir):\n",
    "    try:\n",
    "        response = requests.get(image_url, stream=True)\n",
    "        if response.status_code == 200:\n",
    "            image_name = image_url.split('/')[-1]\n",
    "            image_path = os.path.join(save_dir, image_name)\n",
    "            \n",
    "            with open(image_path, 'wb') as file:\n",
    "                for chunk in response.iter_content(1024):\n",
    "                    file.write(chunk)\n",
    "            print(f\"Downloaded: {image_name}\")\n",
    "        else:\n",
    "            print(f\"Failed to download: {image_url}\")\n",
    "    except Exception as e:\n",
    "        print(f\"Error downloading {image_url}: {e}\")\n",
    "\n",
    "def download_images(image_links, save_dir, max_threads=30):\n",
    "    if not os.path.exists(save_dir):\n",
    "        os.makedirs(save_dir)\n",
    "\n",
    "    with ThreadPool(max_threads) as pool:\n",
    "        pool.starmap(download_image, [(url, save_dir) for url in image_links])\n",
    "\n",
    "# Example usage\n",
    "image_links = new_train_data['image_link'].tolist()  # Converting image links to a list\n",
    "download_images(image_links, '../images2', max_threads=30)\n"
   ]
  },
  {
   "cell_type": "code",
   "execution_count": 6,
   "id": "89aaba53",
   "metadata": {},
   "outputs": [],
   "source": [
    "assert len(os.listdir('../images')) > 0"
   ]
  },
  {
   "cell_type": "code",
   "execution_count": 7,
   "id": "1ba3d802",
   "metadata": {},
   "outputs": [
    {
     "ename": "SyntaxError",
     "evalue": "invalid syntax (2680334662.py, line 1)",
     "output_type": "error",
     "traceback": [
      "\u001b[1;36m  Cell \u001b[1;32mIn[7], line 1\u001b[1;36m\u001b[0m\n\u001b[1;33m    rm -rf ../images\u001b[0m\n\u001b[1;37m            ^\u001b[0m\n\u001b[1;31mSyntaxError\u001b[0m\u001b[1;31m:\u001b[0m invalid syntax\n"
     ]
    }
   ],
   "source": [
    "rm -rf ../images"
   ]
  },
  {
   "cell_type": "code",
   "execution_count": 13,
   "id": "6c38a641",
   "metadata": {},
   "outputs": [
    {
     "name": "stdout",
     "output_type": "stream",
     "text": [
      "                                          image_link  group_id  entity_name  \\\n",
      "0  https://m.media-amazon.com/images/I/61I9XdN6OF...    748919  item_weight   \n",
      "1  https://m.media-amazon.com/images/I/71gSRbyXmo...    916768  item_volume   \n",
      "2  https://m.media-amazon.com/images/I/61BZ4zrjZX...    459516  item_weight   \n",
      "3  https://m.media-amazon.com/images/I/612mrlqiI4...    459516  item_weight   \n",
      "4  https://m.media-amazon.com/images/I/617Tl40LOX...    731432  item_weight   \n",
      "\n",
      "     entity_value  \n",
      "0      500.0 gram  \n",
      "1         1.0 cup  \n",
      "2      0.709 gram  \n",
      "3      0.709 gram  \n",
      "4  1400 milligram  \n"
     ]
    }
   ],
   "source": [
    "print(train.head())\n"
   ]
  },
  {
   "cell_type": "code",
   "execution_count": 18,
   "id": "7a31958f",
   "metadata": {},
   "outputs": [
    {
     "data": {
      "text/plain": [
       "<Axes: >"
      ]
     },
     "execution_count": 18,
     "metadata": {},
     "output_type": "execute_result"
    },
    {
     "data": {
      "image/png": "[encoded data removed]",
      "text/plain": [
       "<Figure size 640x480 with 1 Axes>"
      ]
     },
     "metadata": {},
     "output_type": "display_data"
    }
   ],
   "source": [
    "train.entity_name.value_counts().hist()"
   ]
  },
  {
   "cell_type": "code",
   "execution_count": 28,
   "id": "6a2b1175",
   "metadata": {},
   "outputs": [
    {
     "data": {
      "text/html": [
       "<div>\n",
       "<style scoped>\n",
       "    .dataframe tbody tr th:only-of-type {\n",
       "        vertical-align: middle;\n",
       "    }\n",
       "\n",
       "    .dataframe tbody tr th {\n",
       "        vertical-align: top;\n",
       "    }\n",
       "\n",
       "    .dataframe thead th {\n",
       "        text-align: right;\n",
       "    }\n",
       "</style>\n",
       "<table border=\"1\" class=\"dataframe\">\n",
       "  <thead>\n",
       "    <tr style=\"text-align: right;\">\n",
       "      <th></th>\n",
       "      <th>group_id</th>\n",
       "      <th>entity_name</th>\n",
       "      <th>entity_value</th>\n",
       "    </tr>\n",
       "  </thead>\n",
       "  <tbody>\n",
       "    <tr>\n",
       "      <th>0</th>\n",
       "      <td>748919</td>\n",
       "      <td>item_weight</td>\n",
       "      <td>500.0 gram</td>\n",
       "    </tr>\n",
       "    <tr>\n",
       "      <th>1</th>\n",
       "      <td>916768</td>\n",
       "      <td>item_volume</td>\n",
       "      <td>1.0 cup</td>\n",
       "    </tr>\n",
       "    <tr>\n",
       "      <th>2</th>\n",
       "      <td>459516</td>\n",
       "      <td>item_weight</td>\n",
       "      <td>0.709 gram</td>\n",
       "    </tr>\n",
       "    <tr>\n",
       "      <th>4</th>\n",
       "      <td>731432</td>\n",
       "      <td>item_weight</td>\n",
       "      <td>1400 milligram</td>\n",
       "    </tr>\n",
       "    <tr>\n",
       "      <th>10</th>\n",
       "      <td>149159</td>\n",
       "      <td>item_weight</td>\n",
       "      <td>30.0 kilogram</td>\n",
       "    </tr>\n",
       "    <tr>\n",
       "      <th>...</th>\n",
       "      <td>...</td>\n",
       "      <td>...</td>\n",
       "      <td>...</td>\n",
       "    </tr>\n",
       "    <tr>\n",
       "      <th>263851</th>\n",
       "      <td>955522</td>\n",
       "      <td>height</td>\n",
       "      <td>99.0 millimetre</td>\n",
       "    </tr>\n",
       "    <tr>\n",
       "      <th>263852</th>\n",
       "      <td>115666</td>\n",
       "      <td>height</td>\n",
       "      <td>38.0 inch</td>\n",
       "    </tr>\n",
       "    <tr>\n",
       "      <th>263853</th>\n",
       "      <td>488883</td>\n",
       "      <td>height</td>\n",
       "      <td>72.0 centimetre</td>\n",
       "    </tr>\n",
       "    <tr>\n",
       "      <th>263856</th>\n",
       "      <td>204245</td>\n",
       "      <td>height</td>\n",
       "      <td>43.2 centimetre</td>\n",
       "    </tr>\n",
       "    <tr>\n",
       "      <th>263858</th>\n",
       "      <td>416664</td>\n",
       "      <td>height</td>\n",
       "      <td>27.5 centimetre</td>\n",
       "    </tr>\n",
       "  </tbody>\n",
       "</table>\n",
       "<p>109449 rows × 3 columns</p>\n",
       "</div>"
      ],
      "text/plain": [
       "        group_id  entity_name     entity_value\n",
       "0         748919  item_weight       500.0 gram\n",
       "1         916768  item_volume          1.0 cup\n",
       "2         459516  item_weight       0.709 gram\n",
       "4         731432  item_weight   1400 milligram\n",
       "10        149159  item_weight    30.0 kilogram\n",
       "...          ...          ...              ...\n",
       "263851    955522       height  99.0 millimetre\n",
       "263852    115666       height        38.0 inch\n",
       "263853    488883       height  72.0 centimetre\n",
       "263856    204245       height  43.2 centimetre\n",
       "263858    416664       height  27.5 centimetre\n",
       "\n",
       "[109449 rows x 3 columns]"
      ]
     },
     "execution_count": 28,
     "metadata": {},
     "output_type": "execute_result"
    }
   ],
   "source": [
    "train[['group_id','entity_name','entity_value']].drop_duplicates()"
   ]
  },
  {
   "cell_type": "code",
   "execution_count": 20,
   "id": "5f8f52f6",
   "metadata": {},
   "outputs": [
    {
     "data": {
      "text/plain": [
       "image_link      0\n",
       "group_id        0\n",
       "entity_name     0\n",
       "entity_value    0\n",
       "dtype: int64"
      ]
     },
     "execution_count": 20,
     "metadata": {},
     "output_type": "execute_result"
    }
   ],
   "source": [
    "import matplotlib.pyplot as plt\n",
    "# plt.hist(train)\n",
    "train.isna().sum()"
   ]
  }
 ],
 "metadata": {
  "kernelspec": {
   "display_name": "base",
   "language": "python",
   "name": "python3"
  },
  "language_info": {
   "codemirror_mode": {
    "name": "ipython",
    "version": 3
   },
   "file_extension": ".py",
   "mimetype": "text/x-python",
   "name": "python",
   "nbconvert_exporter": "python",
   "pygments_lexer": "ipython3",
   "version": "3.11.5"
  }
 },
 "nbformat": 4,
 "nbformat_minor": 5
}
